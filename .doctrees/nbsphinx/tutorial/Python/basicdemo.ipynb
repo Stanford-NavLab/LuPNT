{
 "cells": [
  {
   "cell_type": "markdown",
   "metadata": {},
   "source": [
    "# Dynamics Example\n",
    "This notebook contains multiple examples of orbit propagations\n",
    "\n",
    "- Two body analytical \n",
    "- Two body numerical (propagating in Cartesian)\n",
    "- N-body numerical"
   ]
  },
  {
   "cell_type": "code",
   "execution_count": 4,
   "metadata": {},
   "outputs": [
    {
     "ename": "ModuleNotFoundError",
     "evalue": "No module named 'pylupnt'",
     "output_type": "error",
     "traceback": [
      "\u001b[0;31m---------------------------------------------------------------------------\u001b[0m",
      "\u001b[0;31mModuleNotFoundError\u001b[0m                       Traceback (most recent call last)",
      "Cell \u001b[0;32mIn[4], line 1\u001b[0m\n\u001b[0;32m----> 1\u001b[0m \u001b[38;5;28;01mimport\u001b[39;00m \u001b[38;5;21;01mpylupnt\u001b[39;00m \u001b[38;5;28;01mas\u001b[39;00m \u001b[38;5;21;01mpnt\u001b[39;00m\n\u001b[1;32m      2\u001b[0m \u001b[38;5;28;01mimport\u001b[39;00m \u001b[38;5;21;01mnumpy\u001b[39;00m \u001b[38;5;28;01mas\u001b[39;00m \u001b[38;5;21;01mnp\u001b[39;00m\n",
      "\u001b[0;31mModuleNotFoundError\u001b[0m: No module named 'pylupnt'"
     ]
    }
   ],
   "source": [
    "import pylupnt as pnt\n",
    "import numpy as np"
   ]
  },
  {
   "cell_type": "markdown",
   "metadata": {},
   "source": [
    "## Step1: Set the initial orbit elements of the orbit"
   ]
  },
  {
   "cell_type": "markdown",
   "metadata": {},
   "source": [
    "### 1-1. Setup the Orbit Elements \n",
    "The first step is to setup the states of the Orbital Elements\n",
    "For Keplarian orbit elements (classical, equinoctial, QuasiNonsing), you can propagate the orbit by directly updating the state class in the propagator"
   ]
  },
  {
   "cell_type": "code",
   "execution_count": null,
   "metadata": {},
   "outputs": [],
   "source": [
    "# ELFO orbital elements\n",
    "a = 6541.4\n",
    "e = 0.60\n",
    "inc = np.deg2rad(65.5)\n",
    "Omega = np.deg2rad(0.0)\n",
    "w = np.deg2rad(90.0)\n",
    "M = np.deg2rad(0.0)\n",
    "\n",
    "coe_array = np.array([a, e, inc, Omega, w, M])\n",
    "\n",
    "# Orbit Elements (Classical)\n",
    "class_oe = pnt.ClassicalOE(coe_array, frame=pnt.Frame.MOON_CI)  # classical orbital elements class (the second argument is the frame of reference)\n",
    "x_oe = class_oe.vector\n",
    "print(\" \")\n",
    "print(\"Classical orbital elements:\")\n",
    "print(x_oe)\n",
    "\n",
    "# Orbital Elements (Quasi-Nonsing)\n",
    "qn_array = pnt.classical_to_quasi_nonsingular(coe_array, mu=pnt.GM_MOON)\n",
    "class_qn = pnt.QuasiNonsingOE(qn_array, frame=pnt.Frame.MOON_CI)  # quasi-nonsingular orbital elements class\n",
    "x_qn = class_qn.vector\n",
    "print(\" \")\n",
    "print(\"Quasi-nonsingular orbital elements:\")\n",
    "print(x_qn)"
   ]
  },
  {
   "cell_type": "markdown",
   "metadata": {},
   "source": [
    "### 1-2  Get the Cartesian States"
   ]
  },
  {
   "cell_type": "code",
   "execution_count": null,
   "metadata": {},
   "outputs": [],
   "source": [
    "class_cart = pnt.classical2cartesian(class_oe, mu=pnt.GM_MOON)\n",
    "x_cart = class_cart.vector\n",
    "\n",
    "# or you can directly convert the classical orbital elements to cartesian state vector\n",
    "x_cart2 = pnt.classical2cartesian(coe_array, mu=pnt.GM_MOON)\n",
    "\n",
    "print(\"Cartesian State Class\", class_cart)\n",
    "print(\"Cartesian State Vec (Class->Class)  :\", x_cart)\n",
    "print(\"Cartesian State Vec (Vec->Vec):\", x_cart2)"
   ]
  },
  {
   "cell_type": "markdown",
   "metadata": {},
   "source": [
    "## Step2: Propagate the States Using Dynamics\n",
    "We propagate the orbit using three different types of dynamics types"
   ]
  },
  {
   "cell_type": "markdown",
   "metadata": {},
   "source": [
    "### Case 2-1:  Keplarian Dynamics\n",
    "This dynamics class propagates the orbit elements in a two-setting. No perturbations are added.\n",
    "If the dynamics is keplarian, it is more accurate and computationally efficient then numerically propagating the states in Cartesian"
   ]
  },
  {
   "cell_type": "code",
   "execution_count": null,
   "metadata": {},
   "outputs": [],
   "source": [
    "# dynamics\n",
    "mu_moon = pnt.GM_MOON\n",
    "keplerian_dynamics = pnt.KeplerianDynamics(mu_moon)"
   ]
  },
  {
   "cell_type": "markdown",
   "metadata": {},
   "source": [
    "For keplarian dynamics, there is no fuction to directly output the array of state vectors. Therefore, we need to run a for-loop and extract the state vectors at each timestep. "
   ]
  },
  {
   "cell_type": "code",
   "execution_count": null,
   "metadata": {},
   "outputs": [],
   "source": [
    "T_orbit = 2 * np.pi * np.sqrt(pow(a, 3) / mu_moon)\n",
    "print(\" Orbital period [hrs]: {0:.2f} \".format(T_orbit/3600))\n",
    "\n",
    "# Propagate the orbit for full orbit\n",
    "t_end = 0.5 * T_orbit\n",
    "t_array = np.arange(0, t_end, 60.0)  # time array (60 second steps)\n",
    "\n",
    "# propagate the classical orbital elements\n",
    "coe_store = np.zeros((len(t_array), 6))\n",
    "qn_store = np.zeros((len(t_array), 6))\n",
    "\n",
    "coe_store[0, :] = class_oe.vector\n",
    "qn_store[0, :] = class_qn.vector\n",
    "\n",
    "for i, t in enumerate(t_array[1:]):\n",
    "    tidx = i + 1\n",
    "    dt = t_array[tidx] - t_array[tidx - 1]\n",
    "    keplerian_dynamics.propagate(class_oe, dt)   # propagate the classical orbital elements\n",
    "    keplerian_dynamics.propagate(class_qn, dt)   # propagate the quasi-nonsingular orbital elements\n",
    "\n",
    "    coe_store[tidx, :] = class_oe.vector\n",
    "    qn_store[tidx, :] = class_qn.vector\n",
    "\n",
    "print(\" \")\n",
    "print(\" Final Classical Orbital Elements: \", class_oe)  \n",
    "print(\" \")\n",
    "print(\" Final Quasi-Nonsing Orbital Elements: \", class_qn)\n"
   ]
  },
  {
   "cell_type": "markdown",
   "metadata": {},
   "source": [
    "### Visualization"
   ]
  },
  {
   "cell_type": "code",
   "execution_count": null,
   "metadata": {},
   "outputs": [],
   "source": [
    "# Plot the results\n",
    "import matplotlib.pyplot as plt\n",
    "\n",
    "fig, ax = plt.subplots(2, 3, figsize=(8, 6))\n",
    "oe_labels = ['a', 'e', 'inc', 'Omega', 'w', 'M']\n",
    "for i in range(6):\n",
    "    ax[i//3, i%3].plot(t_array, coe_store[:, i], label=oe_labels[i])\n",
    "    ax[i//3, i%3].set_xlabel('Time [s]')\n",
    "    ax[i//3, i%3].set_ylabel('Value')\n",
    "    ax[i//3, i%3].set_title('Element ' + str(i))\n",
    "    ax[i//3, i%3].legend()\n",
    "    ax[i//3, i%3].grid()\n",
    "\n",
    "plt.suptitle('Propagated Classical Orbital Elements in Two Body')\n",
    "plt.tight_layout()\n",
    "plt.show()\n",
    "\n",
    "\n",
    "fig, ax = plt.subplots(2, 3, figsize=(8, 6))\n",
    "# quasi-nonsingular orbital elements\n",
    "qn_labels = ['a','u', 'ex', 'ey', 'i', 'Omega']\n",
    "\n",
    "for i in range(6):\n",
    "    ax[i//3, i%3].plot(t_array, qn_store[:, i], label=qn_labels[i])\n",
    "    ax[i//3, i%3].set_xlabel('Time [s]')\n",
    "    ax[i//3, i%3].set_ylabel('Value')\n",
    "    ax[i//3, i%3].set_title('Element ' + str(i))\n",
    "    ax[i//3, i%3].legend()\n",
    "    ax[i//3, i%3].grid()\n",
    "\n",
    "plt.suptitle('Propagated Quasi-nonsingular Elements in Two Body')\n",
    "plt.tight_layout()\n",
    "plt.show()\n"
   ]
  },
  {
   "cell_type": "markdown",
   "metadata": {},
   "source": [
    "### Case 2-2: Cartesian Two-Body Dynamics"
   ]
  },
  {
   "cell_type": "code",
   "execution_count": null,
   "metadata": {},
   "outputs": [],
   "source": [
    "T_orbit = 2 * np.pi * np.sqrt(pow(a, 3) / mu_moon)\n",
    "t_end = 1 * T_orbit\n",
    "\n",
    "# define Cartesian Two-Body Dynamics\n",
    "cart_tb_dyn = pnt.CartesianTwoBodyDynamics(mu_moon)\n"
   ]
  },
  {
   "cell_type": "markdown",
   "metadata": {},
   "source": [
    "It is possible to directly get the vector outputs"
   ]
  },
  {
   "cell_type": "code",
   "execution_count": null,
   "metadata": {},
   "outputs": [],
   "source": [
    "# Propagate the orbit for full orbit\n",
    "t_array_tb = np.arange(0, t_end, 60.0)  # time array (60 second steps)\n",
    "x_store_tb = np.zeros((len(t_array_tb), 6))   \n",
    "\n",
    "x_store_tb[0, :] = x_cart\n",
    "for i, t in enumerate(t_array_tb[1:]):\n",
    "    tidx = i + 1\n",
    "    dt = t_array_tb[tidx] - t_array_tb[tidx - 1]\n",
    "    x_prop = cart_tb_dyn.propagate(state=x_store_tb[tidx-1, :], t0=t_array_tb[tidx-1], tf=t_array_tb[tidx], dt=dt)\n",
    "    x_store_tb[tidx, :] = x_prop\n",
    "\n",
    "print(\" \")\n",
    "print(\"Final Cartesian State Vec: \", x_prop)\n"
   ]
  },
  {
   "cell_type": "markdown",
   "metadata": {},
   "source": [
    "###  3D Trajectory Visualization in Matplotlib"
   ]
  },
  {
   "cell_type": "code",
   "execution_count": null,
   "metadata": {},
   "outputs": [],
   "source": [
    "plot3d = pnt.plot.Plot3D(azim=-60, elev=10, figsize=(8,8))\n",
    "fig = plot3d.fig\n",
    "ax = plot3d.ax\n",
    "plot3d.plot_surface(pnt.MOON)\n",
    "plot3d.plot(x_store_tb)\n",
    "ax.set_title('Propagated Cartesian State Vec in Two Body')\n"
   ]
  },
  {
   "cell_type": "markdown",
   "metadata": {},
   "source": [
    "### 3D Visualization in Plotly\n",
    "You can also generate a 3d visualizaiton in Plotly, where you can enjoy interactive rotation and zooming"
   ]
  },
  {
   "cell_type": "code",
   "execution_count": null,
   "metadata": {},
   "outputs": [],
   "source": [
    "figp = pnt.plot.plot_constellation(rv=x_store_tb, \n",
    "                                   scene=dict(\n",
    "        xaxis_tickvals=np.arange(-10, 10, 2) * 1e3,\n",
    "        yaxis_tickvals=np.arange(-10, 10, 2) * 1e3,\n",
    "        zaxis_tickvals=np.arange(-10, 10, 2) * 1e3,\n",
    "    ))\n",
    "figp.add_trace(\n",
    "    pnt.plot.get_moon_trace()\n",
    ")\n",
    "figp.show()"
   ]
  },
  {
   "cell_type": "markdown",
   "metadata": {},
   "source": [
    "### Case 3-3: N-Body Dynamics Propagation\n",
    "Next, we will propagate the orbit in N-Body Dynamics. First, we set up the propagator class by registering the bodies which its gravity will be considered\n",
    "\n",
    "For this example, we will add\n",
    "- Moon with 2x2 spherical harmonics\n",
    "- Earth with no spherical harmonics"
   ]
  },
  {
   "cell_type": "code",
   "execution_count": null,
   "metadata": {},
   "outputs": [],
   "source": [
    "# Define the orbit propagation time and time step\n",
    "t_array_nb = t_array_tb \n",
    "\n",
    "# Define the dynamics class\n",
    "cart_nb_dyn = pnt.NBodyDynamics()\n",
    "cart_nb_dyn.set_primary_body(pnt.Body.Moon(2, 2))\n",
    "cart_nb_dyn.add_body(pnt.Body.Earth())"
   ]
  },
  {
   "cell_type": "markdown",
   "metadata": {},
   "source": [
    "Next, we will propagate the orbit.\n",
    "\n",
    "Note that in the N-body example, the location of the planet affects the dynamics model. \n",
    "\n",
    "Therefore, when passing time to the propagator, we need to pass the TAI time instead of the simulation time.\n",
    "\n",
    "See the following example to see how we extract the TAI information"
   ]
  },
  {
   "cell_type": "code",
   "execution_count": null,
   "metadata": {},
   "outputs": [],
   "source": [
    "x_store_nb = np.zeros((len(t_array_nb), 6))\n",
    "\n",
    "tai_t0 = pnt.SpiceInterface.string_to_tai(\"2022/08/01 01:00:00.000 UTC\")\n",
    "tai_array_nb = tai_t0 + t_array_nb\n",
    "\n",
    "x_store_nb[0, :] = x_cart\n",
    "for i, t in enumerate(tai_array_nb[1:]):\n",
    "    tidx = i + 1\n",
    "    dt = tai_array_nb[tidx] - tai_array_nb[tidx - 1]\n",
    "    x_prop = cart_nb_dyn.propagate(state=x_store_nb[tidx-1, :], t0=tai_array_nb[tidx-1], tf=tai_array_nb[tidx], dt=10)\n",
    "    x_store_nb[tidx, :] = x_prop\n",
    "    \n",
    "print(\"Initial Cartesian State Vec: \", x_cart)\n",
    "print(\"Final Cartesian State Vec: \", x_prop)"
   ]
  },
  {
   "cell_type": "markdown",
   "metadata": {},
   "source": [
    "### 3D Trajectory Visualization in Plotly"
   ]
  },
  {
   "cell_type": "code",
   "execution_count": null,
   "metadata": {},
   "outputs": [],
   "source": [
    "figp = pnt.plot.plot_constellation(rv=x_store_nb, \n",
    "                                   scene=dict(\n",
    "        xaxis_tickvals=np.arange(-10, 10, 2) * 1e3,\n",
    "        yaxis_tickvals=np.arange(-10, 10, 2) * 1e3,\n",
    "        zaxis_tickvals=np.arange(-10, 10, 2) * 1e3,\n",
    "    ))\n",
    "figp.add_trace(\n",
    "    pnt.plot.get_moon_trace()\n",
    ")\n",
    "figp.show()"
   ]
  },
  {
   "cell_type": "markdown",
   "metadata": {},
   "source": [
    "We will see the difference in the propagated orbit between the two-body dynamics model and the higher fidelity N-body model"
   ]
  },
  {
   "cell_type": "code",
   "execution_count": null,
   "metadata": {},
   "outputs": [],
   "source": [
    "# compare the two body and n-body dynamics\n",
    "fig, ax = plt.subplots(3, 2, figsize=(8, 6))\n",
    "labels = ['x [km]', 'y [km]', 'z [km]', 'vx [km/s]', 'vy [km/s]', 'vz [km/s]']\n",
    "\n",
    "for i in range(6):\n",
    "    ax[i//2, i%2].plot(t_array_nb/3600, x_store_nb[:, i], label='N-Body')\n",
    "    ax[i//2, i%2].plot(t_array_tb/3600, x_store_tb[:, i], label='Two-Body')\n",
    "    ax[i//2, i%2].set_xlabel('Time [hrs]')\n",
    "    ax[i//2, i%2].set_ylabel(labels[i])\n",
    "    ax[i//2, i%2].set_title(labels[i])\n",
    "    ax[i//2, i%2].legend()\n",
    "    ax[i//2, i%2].grid()\n",
    "\n",
    "plt.suptitle('Propagated Cartesian State Vec in Two Body and N-Body')\n",
    "plt.tight_layout()\n",
    "plt.show()\n",
    "\n",
    "\n",
    "# plot the difference\n",
    "fig, ax = plt.subplots(3, 2, figsize=(8, 6))\n",
    "labels = ['x [km]', 'y [km]', 'z [km]', 'vx [km/s]', 'vy [km/s]', 'vz [km/s]']\n",
    "\n",
    "for i in range(6):\n",
    "    ax[i//2, i%2].plot(t_array_nb/3600, x_store_nb[:, i] - x_store_tb[:, i])\n",
    "    ax[i//2, i%2].set_xlabel('Time [hrs]')\n",
    "    ax[i//2, i%2].set_ylabel(labels[i])\n",
    "    ax[i//2, i%2].set_title(labels[i])\n",
    "    ax[i//2, i%2].grid()\n",
    "\n",
    "plt.suptitle('Difference between Two-Body and N-Body Dynamics')\n",
    "plt.tight_layout()\n",
    "plt.show()"
   ]
  }
 ],
 "metadata": {
  "kernelspec": {
   "display_name": "lupntenv",
   "language": "python",
   "name": "python3"
  },
  "language_info": {
   "codemirror_mode": {
    "name": "ipython",
    "version": 3
   },
   "file_extension": ".py",
   "mimetype": "text/x-python",
   "name": "python",
   "nbconvert_exporter": "python",
   "pygments_lexer": "ipython3",
   "version": "3.12.4"
  }
 },
 "nbformat": 4,
 "nbformat_minor": 2
}
